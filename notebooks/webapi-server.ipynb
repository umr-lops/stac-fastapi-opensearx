{
 "cells": [
  {
   "cell_type": "markdown",
   "id": "0",
   "metadata": {
    "jp-MarkdownHeadingCollapsed": true,
    "tags": []
   },
   "source": [
    "## query the existing opensearx api"
   ]
  },
  {
   "cell_type": "code",
   "execution_count": null,
   "id": "1",
   "metadata": {},
   "outputs": [],
   "source": [
    "import pystac"
   ]
  },
  {
   "cell_type": "code",
   "execution_count": null,
   "id": "2",
   "metadata": {},
   "outputs": [],
   "source": [
    "pystac.version.get_stac_version()"
   ]
  },
  {
   "cell_type": "code",
   "execution_count": null,
   "id": "3",
   "metadata": {},
   "outputs": [],
   "source": [
    "import requests"
   ]
  },
  {
   "cell_type": "code",
   "execution_count": null,
   "id": "4",
   "metadata": {},
   "outputs": [],
   "source": [
    "from datetime import datetime"
   ]
  },
  {
   "cell_type": "code",
   "execution_count": null,
   "id": "5",
   "metadata": {},
   "outputs": [],
   "source": [
    "import zoneinfo"
   ]
  },
  {
   "cell_type": "code",
   "execution_count": null,
   "id": "6",
   "metadata": {},
   "outputs": [],
   "source": [
    "utc = zoneinfo.ZoneInfo(\"UTC\")"
   ]
  },
  {
   "cell_type": "code",
   "execution_count": null,
   "id": "7",
   "metadata": {},
   "outputs": [],
   "source": [
    "params = {\n",
    "    \"datasetId\": \"AVHRR_SST_METOP_B-OSISAF-L2P-v1.0\",\n",
    "    \"startPage\": 0,\n",
    "    \"count\": 100,\n",
    "    \"timeStart\": datetime(2010, 1, 1, tzinfo=utc).strftime(\"%Y-%m-%dT%H:%M:%SZ\"),\n",
    "    \"timeEnd\": datetime(2020, 5, 1, tzinfo=utc).strftime(\"%Y-%m-%dT%H:%M:%SZ\"),\n",
    "    \"geoBox\": \",\".join(f\"{v}\" for v in [-180.0, -90.0, 180.0, 90.0]),\n",
    "}\n",
    "url = \"https://opensearch.ifremer.fr/granules.atom\"\n",
    "\n",
    "r = requests.get(url, params=params)\n",
    "r"
   ]
  },
  {
   "cell_type": "raw",
   "id": "8",
   "metadata": {},
   "source": [
    "import aiohttp"
   ]
  },
  {
   "cell_type": "code",
   "execution_count": null,
   "id": "9",
   "metadata": {},
   "outputs": [],
   "source": [
    "requests.status_codes.codes.ALL_OKAY"
   ]
  },
  {
   "cell_type": "code",
   "execution_count": null,
   "id": "10",
   "metadata": {},
   "outputs": [],
   "source": [
    "feed = r.content.decode()"
   ]
  },
  {
   "cell_type": "code",
   "execution_count": null,
   "id": "11",
   "metadata": {},
   "outputs": [],
   "source": [
    "r.url"
   ]
  },
  {
   "cell_type": "code",
   "execution_count": null,
   "id": "12",
   "metadata": {},
   "outputs": [],
   "source": [
    "import feedparser"
   ]
  },
  {
   "cell_type": "code",
   "execution_count": null,
   "id": "13",
   "metadata": {
    "tags": []
   },
   "outputs": [],
   "source": [
    "result = feedparser.parse(feed)\n",
    "result"
   ]
  },
  {
   "cell_type": "markdown",
   "id": "14",
   "metadata": {},
   "source": [
    "## stac server tests"
   ]
  },
  {
   "cell_type": "code",
   "execution_count": null,
   "id": "15",
   "metadata": {},
   "outputs": [],
   "source": [
    "import pystac_client"
   ]
  },
  {
   "cell_type": "code",
   "execution_count": null,
   "id": "16",
   "metadata": {},
   "outputs": [],
   "source": [
    "client = pystac_client.Client.open(\"http://127.0.0.1:9588\")\n",
    "client"
   ]
  },
  {
   "cell_type": "code",
   "execution_count": null,
   "id": "17",
   "metadata": {},
   "outputs": [],
   "source": [
    "cols = list(client.get_all_collections())\n",
    "[col.id for col in cols]"
   ]
  },
  {
   "cell_type": "code",
   "execution_count": null,
   "id": "18",
   "metadata": {},
   "outputs": [],
   "source": [
    "col = client.get_collection(\"avhrr_sst_metop_b-osisaf-l2p-v1_0\")\n",
    "col"
   ]
  },
  {
   "cell_type": "code",
   "execution_count": null,
   "id": "19",
   "metadata": {
    "tags": []
   },
   "outputs": [],
   "source": [
    "items = list(\n",
    "    client.search(\n",
    "        collections=[\"avhrr_sst_metop_b-osisaf-l2p-v1.0\"],\n",
    "        datetime=[\"2022-01-01T00:00:00Z\", \"2022-01-01T23:59:59Z\"],\n",
    "        # datetime=[\"2022-02-06T00:00:00Z\", \"2022-02-07T23:59:59Z\"],\n",
    "        # ids=[\"swi_l2anad:CFO_OPER_SWI_L2ANAD_F_20220206T101136_20220206T114422\", \"swi_l2anad:CFO_OPER_SWI_L2ANAD_F_20220206T131705_20220206T145014\"],\n",
    "        bbox=[-180, -90, 180, 90],\n",
    "        limit=200,\n",
    "        max_items=None,\n",
    "        method=\"POST\",\n",
    "    ).get_all_items()\n",
    ")\n",
    "len(items)"
   ]
  },
  {
   "cell_type": "code",
   "execution_count": null,
   "id": "20",
   "metadata": {
    "tags": []
   },
   "outputs": [],
   "source": [
    "[item.id for item in items]"
   ]
  },
  {
   "cell_type": "code",
   "execution_count": null,
   "id": "21",
   "metadata": {
    "tags": []
   },
   "outputs": [],
   "source": [
    "assets = [item.assets for item in items]\n",
    "assets[0]"
   ]
  }
 ],
 "metadata": {
  "language_info": {
   "codemirror_mode": {
    "name": "ipython",
    "version": 3
   },
   "file_extension": ".py",
   "mimetype": "text/x-python",
   "name": "python",
   "nbconvert_exporter": "python",
   "pygments_lexer": "ipython3"
  }
 },
 "nbformat": 4,
 "nbformat_minor": 5
}
