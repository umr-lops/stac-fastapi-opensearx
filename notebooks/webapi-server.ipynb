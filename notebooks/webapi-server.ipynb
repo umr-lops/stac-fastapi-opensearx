{
 "cells": [
  {
   "cell_type": "markdown",
   "id": "1e701fc0-c83b-4467-bec1-e2167338bdd0",
   "metadata": {
    "jp-MarkdownHeadingCollapsed": true,
    "tags": []
   },
   "source": [
    "## query the existing opensearx api"
   ]
  },
  {
   "cell_type": "code",
   "execution_count": null,
   "id": "49d4c876-7ba4-4cad-9717-5569418b2147",
   "metadata": {},
   "outputs": [],
   "source": [
    "import pystac"
   ]
  },
  {
   "cell_type": "code",
   "execution_count": null,
   "id": "52b06fc3-f0c5-4b6b-969a-82d4a7e3c9b3",
   "metadata": {},
   "outputs": [],
   "source": [
    "pystac.version.get_stac_version()"
   ]
  },
  {
   "cell_type": "code",
   "execution_count": null,
   "id": "e881cd7a-dfd5-48be-81e4-de5e012966a0",
   "metadata": {},
   "outputs": [],
   "source": [
    "import requests"
   ]
  },
  {
   "cell_type": "code",
   "execution_count": null,
   "id": "47e15fa1-d0c8-4b68-8164-e163a69583e7",
   "metadata": {},
   "outputs": [],
   "source": [
    "from datetime import datetime"
   ]
  },
  {
   "cell_type": "code",
   "execution_count": null,
   "id": "774eb592-0509-4fab-8ebd-98338432d298",
   "metadata": {},
   "outputs": [],
   "source": [
    "import zoneinfo"
   ]
  },
  {
   "cell_type": "code",
   "execution_count": null,
   "id": "fa45cae7-1818-45d5-8e18-8523ae052ee6",
   "metadata": {},
   "outputs": [],
   "source": [
    "utc = zoneinfo.ZoneInfo(\"UTC\")"
   ]
  },
  {
   "cell_type": "code",
   "execution_count": null,
   "id": "f7d14f09-82fb-4d41-9a4c-bdadf16a91d4",
   "metadata": {},
   "outputs": [],
   "source": [
    "params = {\n",
    "    \"datasetId\": \"AVHRR_SST_METOP_B-OSISAF-L2P-v1.0\",\n",
    "    \"startPage\": 0,\n",
    "    \"count\": 100,\n",
    "    \"timeStart\": datetime(2010, 1, 1, tzinfo=utc).strftime(\"%Y-%m-%dT%H:%M:%SZ\"),\n",
    "    \"timeEnd\": datetime(2020, 5, 1, tzinfo=utc).strftime(\"%Y-%m-%dT%H:%M:%SZ\"),\n",
    "    \"geoBox\": \",\".join(f\"{v}\" for v in [-180.0, -90.0, 180.0, 90.0]),\n",
    "}\n",
    "url = \"https://opensearch.ifremer.fr/granules.atom\"\n",
    "\n",
    "r = requests.get(url, params=params)\n",
    "r"
   ]
  },
  {
   "cell_type": "raw",
   "id": "a983f944-dc2d-47f7-aeaf-b372d7d412ab",
   "metadata": {},
   "source": [
    "import aiohttp"
   ]
  },
  {
   "cell_type": "code",
   "execution_count": null,
   "id": "585aa4c2-327a-4167-ad5c-e18d9f4ae8f6",
   "metadata": {},
   "outputs": [],
   "source": [
    "requests.status_codes.codes.ALL_OKAY"
   ]
  },
  {
   "cell_type": "code",
   "execution_count": null,
   "id": "bea58d41-b1b5-44ae-82b6-083cb3f76b55",
   "metadata": {},
   "outputs": [],
   "source": [
    "feed = r.content.decode()"
   ]
  },
  {
   "cell_type": "code",
   "execution_count": null,
   "id": "3b7a8745-e332-489f-aaf0-c5e9437b8634",
   "metadata": {},
   "outputs": [],
   "source": [
    "r.url"
   ]
  },
  {
   "cell_type": "code",
   "execution_count": null,
   "id": "7aaa6aa8-2f8f-4288-a3dd-3864b1fd0ce5",
   "metadata": {},
   "outputs": [],
   "source": [
    "import feedparser"
   ]
  },
  {
   "cell_type": "code",
   "execution_count": null,
   "id": "8e6bcd82-ed79-4393-aeaa-9fab1bb325f6",
   "metadata": {
    "tags": []
   },
   "outputs": [],
   "source": [
    "result = feedparser.parse(feed)\n",
    "result"
   ]
  },
  {
   "cell_type": "markdown",
   "id": "9e77c61b-7d49-483a-b892-5b9e339bed62",
   "metadata": {},
   "source": [
    "## stac server tests"
   ]
  },
  {
   "cell_type": "code",
   "execution_count": null,
   "id": "9d4f07cd-101a-41be-94f1-32898e948220",
   "metadata": {},
   "outputs": [],
   "source": [
    "import pystac_client"
   ]
  },
  {
   "cell_type": "code",
   "execution_count": null,
   "id": "084d8e98-2dd4-487c-a356-10668ac3226a",
   "metadata": {},
   "outputs": [],
   "source": [
    "client = pystac_client.Client.open(\"http://127.0.0.1:9588\")\n",
    "client"
   ]
  },
  {
   "cell_type": "code",
   "execution_count": null,
   "id": "086c976c-3fee-4fa6-bdfe-30d6e1f928a9",
   "metadata": {},
   "outputs": [],
   "source": [
    "cols = list(client.get_all_collections())\n",
    "[col.id for col in cols]"
   ]
  },
  {
   "cell_type": "code",
   "execution_count": null,
   "id": "1a3788b2-e449-4077-a90a-8e2759fba267",
   "metadata": {},
   "outputs": [],
   "source": [
    "col = client.get_collection(\"avhrr_sst_metop_b-osisaf-l2p-v1_0\")\n",
    "col"
   ]
  },
  {
   "cell_type": "code",
   "execution_count": null,
   "id": "a376c1e4-4941-4362-9214-d2f4183f2299",
   "metadata": {
    "tags": []
   },
   "outputs": [],
   "source": [
    "items = list(\n",
    "    client.search(\n",
    "        collections=[\"avhrr_sst_metop_b-osisaf-l2p-v1.0\"],\n",
    "        datetime=[\"2022-01-01T00:00:00Z\", \"2022-01-01T23:59:59Z\"],\n",
    "        # datetime=[\"2022-02-06T00:00:00Z\", \"2022-02-07T23:59:59Z\"],\n",
    "        # ids=[\"swi_l2anad:CFO_OPER_SWI_L2ANAD_F_20220206T101136_20220206T114422\", \"swi_l2anad:CFO_OPER_SWI_L2ANAD_F_20220206T131705_20220206T145014\"],\n",
    "        bbox=[-180, -90, 180, 90],\n",
    "        limit=200,\n",
    "        max_items=None,\n",
    "        method=\"POST\",\n",
    "    ).get_all_items()\n",
    ")\n",
    "len(items)"
   ]
  },
  {
   "cell_type": "code",
   "execution_count": null,
   "id": "1f42c8d9-4936-41df-88a4-3deaccf0533d",
   "metadata": {
    "tags": []
   },
   "outputs": [],
   "source": [
    "[item.id for item in items]"
   ]
  },
  {
   "cell_type": "code",
   "execution_count": null,
   "id": "6f1e6c32-31c5-4eec-b603-575ee46e962e",
   "metadata": {
    "tags": []
   },
   "outputs": [],
   "source": [
    "assets = [item.assets for item in items]\n",
    "assets[0]"
   ]
  }
 ],
 "metadata": {
  "language_info": {
   "codemirror_mode": {
    "name": "ipython",
    "version": 3
   },
   "file_extension": ".py",
   "mimetype": "text/x-python",
   "name": "python",
   "nbconvert_exporter": "python",
   "pygments_lexer": "ipython3"
  }
 },
 "nbformat": 4,
 "nbformat_minor": 5
}
